{
 "cells": [
  {
   "cell_type": "code",
   "execution_count": 1,
   "id": "9d856b55-6c4a-4df7-a796-2fedbd8c05b7",
   "metadata": {},
   "outputs": [],
   "source": [
    "from pyspark import SparkContext"
   ]
  },
  {
   "cell_type": "code",
   "execution_count": 2,
   "id": "132c2057-c805-45ae-a6a4-bf718217b2a1",
   "metadata": {},
   "outputs": [
    {
     "name": "stderr",
     "output_type": "stream",
     "text": [
      "Setting default log level to \"WARN\".\n",
      "To adjust logging level use sc.setLogLevel(newLevel). For SparkR, use setLogLevel(newLevel).\n"
     ]
    },
    {
     "name": "stdout",
     "output_type": "stream",
     "text": [
      "22/12/20 00:39:19 WARN NativeCodeLoader: Unable to load native-hadoop library for your platform... using builtin-java classes where applicable\n",
      "22/12/20 00:39:25 WARN Utils: Service 'SparkUI' could not bind on port 4040. Attempting port 4041.\n"
     ]
    }
   ],
   "source": [
    "sc = SparkContext('local')"
   ]
  },
  {
   "cell_type": "code",
   "execution_count": 5,
   "id": "e3761fe0-a5e1-4a7c-9428-a0d027eb2552",
   "metadata": {},
   "outputs": [
    {
     "data": {
      "text/plain": [
       "data/cc.txt MapPartitionsRDD[3] at textFile at NativeMethodAccessorImpl.java:0"
      ]
     },
     "execution_count": 5,
     "metadata": {},
     "output_type": "execute_result"
    }
   ],
   "source": [
    "rdd1 = sc.textFile('data/cc.txt')\n",
    "rdd1"
   ]
  },
  {
   "cell_type": "code",
   "execution_count": 6,
   "id": "307502a6-9ff4-4260-9f0c-7a3e3e666e47",
   "metadata": {},
   "outputs": [
    {
     "name": "stderr",
     "output_type": "stream",
     "text": [
      "                                                                                \r"
     ]
    },
    {
     "data": {
      "text/plain": [
       "['10,20', '30,40', '50,60', '70,80']"
      ]
     },
     "execution_count": 6,
     "metadata": {},
     "output_type": "execute_result"
    }
   ],
   "source": [
    "rdd1.collect()"
   ]
  },
  {
   "cell_type": "code",
   "execution_count": 7,
   "id": "ccdd04af-de1a-4090-938e-1157f36a1110",
   "metadata": {},
   "outputs": [
    {
     "name": "stderr",
     "output_type": "stream",
     "text": [
      "                                                                                \r"
     ]
    },
    {
     "data": {
      "text/plain": [
       "[10, 20, 30, 40, 50, 60, 70, 80]"
      ]
     },
     "execution_count": 7,
     "metadata": {},
     "output_type": "execute_result"
    }
   ],
   "source": [
    "myrdd = rdd1.flatMap(lambda v:v.split(',')).map(lambda v: int(v))\n",
    "myrdd.collect()"
   ]
  },
  {
   "cell_type": "code",
   "execution_count": 8,
   "id": "1fedf1eb-519e-4a73-97a6-04ae45ef618a",
   "metadata": {},
   "outputs": [
    {
     "name": "stderr",
     "output_type": "stream",
     "text": [
      "                                                                                \r"
     ]
    },
    {
     "data": {
      "text/plain": [
       "[10, 20, 30, 40, 50, 60, 70, 80]"
      ]
     },
     "execution_count": 8,
     "metadata": {},
     "output_type": "execute_result"
    }
   ],
   "source": [
    "# transformation function distinct()\n",
    "rdd2=myrdd.distinct() \n",
    "rdd2.collect()"
   ]
  },
  {
   "cell_type": "code",
   "execution_count": 10,
   "id": "d67ab904-50aa-4f38-899a-9354734b7817",
   "metadata": {},
   "outputs": [
    {
     "name": "stderr",
     "output_type": "stream",
     "text": [
      "                                                                                \r"
     ]
    },
    {
     "data": {
      "text/plain": [
       "[10, 20, 30, 40, 50, 60, 70, 80]"
      ]
     },
     "execution_count": 10,
     "metadata": {},
     "output_type": "execute_result"
    }
   ],
   "source": [
    "myr=rdd1.flatMap(lambda v:v.split(',')).map(lambda v:int(v)).distinct()\n",
    "myr.collect()"
   ]
  },
  {
   "cell_type": "code",
   "execution_count": 11,
   "id": "0a07fcd2-40bd-435b-9b12-d78e659fd271",
   "metadata": {},
   "outputs": [
    {
     "data": {
      "text/plain": [
       "10"
      ]
     },
     "execution_count": 11,
     "metadata": {},
     "output_type": "execute_result"
    }
   ],
   "source": [
    "# if not return rdd => action function\n",
    "myr.first() # action function"
   ]
  },
  {
   "cell_type": "code",
   "execution_count": 12,
   "id": "22f318be-c361-4222-b0e3-4ca41f4ac0f1",
   "metadata": {},
   "outputs": [
    {
     "name": "stderr",
     "output_type": "stream",
     "text": [
      "                                                                                \r"
     ]
    },
    {
     "data": {
      "text/plain": [
       "[20, 50, 70]"
      ]
     },
     "execution_count": 12,
     "metadata": {},
     "output_type": "execute_result"
    }
   ],
   "source": [
    "# randome sample 3 (if False => 비복원추출, if True => 복원추출)\n",
    "samList = myr.takeSample(False, 3)\n",
    "samList"
   ]
  },
  {
   "cell_type": "code",
   "execution_count": 13,
   "id": "601783e5-1196-4b95-9d4d-746ec7b33934",
   "metadata": {},
   "outputs": [
    {
     "data": {
      "text/plain": [
       "45.0"
      ]
     },
     "execution_count": 13,
     "metadata": {},
     "output_type": "execute_result"
    }
   ],
   "source": [
    "# action function\n",
    "myr.mean()"
   ]
  },
  {
   "cell_type": "code",
   "execution_count": 14,
   "id": "ecf46296-fc72-4818-8da8-48ebbcfd0e0d",
   "metadata": {},
   "outputs": [
    {
     "data": {
      "text/plain": [
       "22.9128784747792"
      ]
     },
     "execution_count": 14,
     "metadata": {},
     "output_type": "execute_result"
    }
   ],
   "source": [
    "# standard deviation\n",
    "myr.stdev()"
   ]
  },
  {
   "cell_type": "code",
   "execution_count": 15,
   "id": "b8869a11-8fed-4cfe-9699-46f7d7e375ab",
   "metadata": {},
   "outputs": [
    {
     "data": {
      "text/plain": [
       "80"
      ]
     },
     "execution_count": 15,
     "metadata": {},
     "output_type": "execute_result"
    }
   ],
   "source": [
    "myr.max()"
   ]
  },
  {
   "cell_type": "code",
   "execution_count": 16,
   "id": "078f6e9b-fe58-47b2-803c-652701c00a94",
   "metadata": {},
   "outputs": [
    {
     "data": {
      "text/plain": [
       "10"
      ]
     },
     "execution_count": 16,
     "metadata": {},
     "output_type": "execute_result"
    }
   ],
   "source": [
    "myr.min()"
   ]
  },
  {
   "cell_type": "code",
   "execution_count": 17,
   "id": "04c96ea4-2206-4d72-be7f-87309ad82e50",
   "metadata": {},
   "outputs": [
    {
     "data": {
      "text/plain": [
       "([10.0, 33.33333333333333, 56.666666666666664, 80], [3, 2, 3])"
      ]
     },
     "execution_count": 17,
     "metadata": {},
     "output_type": "execute_result"
    }
   ],
   "source": [
    "myr.histogram(3)"
   ]
  },
  {
   "cell_type": "code",
   "execution_count": 18,
   "id": "ec25c5e1-59fa-4c81-88c1-1f9717d53b4b",
   "metadata": {},
   "outputs": [
    {
     "data": {
      "text/plain": [
       "[10, 20, 30, 40, 50, 60, 70, 80]"
      ]
     },
     "execution_count": 18,
     "metadata": {},
     "output_type": "execute_result"
    }
   ],
   "source": [
    "myr.collect()"
   ]
  },
  {
   "cell_type": "code",
   "execution_count": 19,
   "id": "077f6456-aa0c-4971-a17c-cdcd6c2524a5",
   "metadata": {},
   "outputs": [
    {
     "data": {
      "text/plain": [
       "([10, 50, 100], [4, 4])"
      ]
     },
     "execution_count": 19,
     "metadata": {},
     "output_type": "execute_result"
    }
   ],
   "source": [
    "# 10과 50사이에 4개 \n",
    "# 10 <= x < 50\n",
    "# 50과 100사이에 4개\n",
    "# 50 <= x <=100 => 마지막은 포함된다!\n",
    "myr.histogram([10,50,100])"
   ]
  },
  {
   "cell_type": "code",
   "execution_count": 21,
   "id": "404deb51-710d-402b-baa2-19295170eb9a",
   "metadata": {},
   "outputs": [
    {
     "data": {
      "text/plain": [
       "8"
      ]
     },
     "execution_count": 21,
     "metadata": {},
     "output_type": "execute_result"
    }
   ],
   "source": [
    "myr.count()"
   ]
  },
  {
   "cell_type": "code",
   "execution_count": 20,
   "id": "caff7533-9df8-4913-b607-954d258e2570",
   "metadata": {},
   "outputs": [
    {
     "data": {
      "text/plain": [
       "(count: 8, mean: 45.0, stdev: 22.9128784747792, max: 80.0, min: 10.0)"
      ]
     },
     "execution_count": 20,
     "metadata": {},
     "output_type": "execute_result"
    }
   ],
   "source": [
    "myr.stats()"
   ]
  },
  {
   "cell_type": "code",
   "execution_count": 22,
   "id": "96d804de-fe6d-482d-9f52-af2d28b43ea1",
   "metadata": {},
   "outputs": [
    {
     "data": {
      "text/plain": [
       "(count: 8, mean: 2550.0, stdev: 2112.463017427761, max: 6400.0, min: 100.0)"
      ]
     },
     "execution_count": 22,
     "metadata": {},
     "output_type": "execute_result"
    }
   ],
   "source": [
    "myr.map(lambda x : x**2).stats()"
   ]
  },
  {
   "cell_type": "code",
   "execution_count": 23,
   "id": "6a28d268-0af2-4b01-ae14-c4c2ac080184",
   "metadata": {},
   "outputs": [],
   "source": [
    "def fn(a,b):\n",
    "    print(f'a = {a}')\n",
    "    print(f'b = {b}')\n",
    "    return a+b"
   ]
  },
  {
   "cell_type": "code",
   "execution_count": 24,
   "id": "5040e31a-a4b5-46c9-b118-e65602561cfd",
   "metadata": {},
   "outputs": [
    {
     "name": "stderr",
     "output_type": "stream",
     "text": [
      "a = 10\n",
      "b = 20\n",
      "a = 30\n",
      "b = 30\n",
      "a = 60\n",
      "b = 40\n",
      "a = 100\n",
      "b = 50\n",
      "a = 150\n",
      "b = 60\n",
      "a = 210\n",
      "b = 70\n",
      "a = 280\n",
      "b = 80\n"
     ]
    },
    {
     "data": {
      "text/plain": [
       "360"
      ]
     },
     "execution_count": 24,
     "metadata": {},
     "output_type": "execute_result"
    }
   ],
   "source": [
    "# cummulate\n",
    "myr.reduce(fn)"
   ]
  },
  {
   "cell_type": "code",
   "execution_count": 27,
   "id": "f8eb6e03-64f6-422b-ac3b-61c1a2b690de",
   "metadata": {},
   "outputs": [
    {
     "name": "stderr",
     "output_type": "stream",
     "text": [
      "                                                                                \r"
     ]
    },
    {
     "data": {
      "text/plain": [
       "360"
      ]
     },
     "execution_count": 27,
     "metadata": {},
     "output_type": "execute_result"
    }
   ],
   "source": [
    "myr.reduce(lambda a,b : a+b)"
   ]
  },
  {
   "cell_type": "code",
   "execution_count": null,
   "id": "55c87aa8-4824-4eec-8210-804400ad0d9d",
   "metadata": {},
   "outputs": [],
   "source": [
    "# myr => [(10,20),(30,40),(50,60),(70,80)]\n",
    "\n",
    "# myr => [10,20,30,40,50,60,70,80]\n"
   ]
  }
 ],
 "metadata": {
  "kernelspec": {
   "display_name": "Python 3 (ipykernel)",
   "language": "python",
   "name": "python3"
  },
  "language_info": {
   "codemirror_mode": {
    "name": "ipython",
    "version": 3
   },
   "file_extension": ".py",
   "mimetype": "text/x-python",
   "name": "python",
   "nbconvert_exporter": "python",
   "pygments_lexer": "ipython3",
   "version": "3.9.13"
  }
 },
 "nbformat": 4,
 "nbformat_minor": 5
}

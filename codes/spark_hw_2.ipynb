{
 "cells": [
  {
   "attachments": {},
   "cell_type": "markdown",
   "metadata": {},
   "source": [
    "### traffic.csv(전국 교통사고 데이터)를 사용해 10개의 문제를 만드시오"
   ]
  },
  {
   "cell_type": "code",
   "execution_count": 36,
   "metadata": {},
   "outputs": [],
   "source": [
    "from pyspark import SparkContext\n",
    "from pyspark.sql import SparkSession, Row, functions , types\n",
    "from pyspark.sql.functions import when, udf, col, regexp_replace\n",
    "from pyspark.sql.types import  DoubleType, IntegerType, StringType\n",
    "import pandas as pd"
   ]
  },
  {
   "cell_type": "code",
   "execution_count": 5,
   "metadata": {},
   "outputs": [
    {
     "name": "stderr",
     "output_type": "stream",
     "text": [
      "Setting default log level to \"WARN\".\n",
      "To adjust logging level use sc.setLogLevel(newLevel). For SparkR, use setLogLevel(newLevel).\n"
     ]
    },
    {
     "name": "stdout",
     "output_type": "stream",
     "text": [
      "22/12/22 16:37:59 WARN NativeCodeLoader: Unable to load native-hadoop library for your platform... using builtin-java classes where applicable\n",
      "22/12/22 16:38:04 WARN Utils: Service 'SparkUI' could not bind on port 4040. Attempting port 4041.\n"
     ]
    }
   ],
   "source": [
    "sc = SparkContext('local')"
   ]
  },
  {
   "cell_type": "code",
   "execution_count": 7,
   "metadata": {},
   "outputs": [
    {
     "name": "stderr",
     "output_type": "stream",
     "text": [
      "/home/mobile/spark-3.3.1-bin-hadoop2/python/pyspark/sql/context.py:112: FutureWarning: Deprecated in 3.0.0. Use SparkSession.builder.getOrCreate() instead.\n",
      "  warnings.warn(\n"
     ]
    }
   ],
   "source": [
    "sqlCtx = SQLContext(sc)"
   ]
  },
  {
   "cell_type": "code",
   "execution_count": 9,
   "metadata": {},
   "outputs": [
    {
     "name": "stderr",
     "output_type": "stream",
     "text": [
      "                                                                                \r"
     ]
    },
    {
     "name": "stdout",
     "output_type": "stream",
     "text": [
      "22/12/22 16:39:09 WARN package: Truncated the string representation of a plan since it was too large. This behavior can be adjusted by setting 'spark.sql.debug.maxToStringFields'.\n",
      "+------+------------+------+----+----+--------+--------+--------+--------+------------+----------+------------+---------------+---------------+----------+---------------+--------------------+---------------+----------------+------------------------+-----------------+------------------------+-----------------+--------------+--------------+-----------+-----------+\n",
      "|발생년|발생년월일시|발생분|주야|요일|사망자수|사상자수|중상자수|경상자수|부상신고자수|발생지시도|발생지시군구|사고유형_대분류|사고유형_중분류|  사고유형|법규위반_대분류|            법규위반|도로형태_대분류|        도로형태|가해자_당사자종별_대분류|가해자_당사자종별|피해자_당사자종별_대분류|피해자_당사자종별|발생위치X_UTMK|발생위치Y_UTMK|       경도|       위도|\n",
      "+------+------------+------+----+----+--------+--------+--------+--------+------------+----------+------------+---------------+---------------+----------+---------------+--------------------+---------------+----------------+------------------------+-----------------+------------------------+-----------------+--------------+--------------+-----------+-----------+\n",
      "|  2018|  2018021406|    35|  주|  수|       1|       1|       0|       0|           0|      서울|    서대문구|       차대사람|         횡단중|    횡단중| 운전자법규위반|안전운전 의무 불이행|         단일로|      기타단일로|                  승용차|           승용차|                  보행자|           보행자|      950497.0|     1954702.0|126.9392741|37.59038756|\n",
      "|  2018|  2018090205|    23|  야|  일|       1|       1|       0|       0|           0|      서울|      용산구|       차대사람|         횡단중|    횡단중| 운전자법규위반|안전운전 의무 불이행|         교차로|교차로횡단보도내|                  승용차|           승용차|                  보행자|           보행자|      953337.0|     1950150.0|126.9717317|37.54950802|\n",
      "|  2018|  2018121522|    35|  야|  토|       1|       1|       0|       0|           0|      서울|      성북구|       차량단독|     공작물충돌|공작물충돌| 운전자법규위반|안전운전 의무 불이행|         단일로|      기타단일로|                  이륜차|           이륜차|                    없음|             없음|      956967.0|     1954807.0|127.0125517|37.59165934|\n",
      "|  2018|  2018082311|    30|  주|  목|       1|       1|       0|       0|           0|      서울|      강북구|       차량단독|           기타|      기타| 운전자법규위반|기타(운전자법규위반)|         단일로|      기타단일로|                  승합차|           승합차|                    없음|             없음|      958020.0|     1959193.0|127.0242273|37.63123983|\n",
      "|  2018|  2018071600|    50|  야|  월|       1|       1|       0|       0|           0|      서울|      강북구|       차대사람|           기타|      기타| 운전자법규위반|안전운전 의무 불이행|         교차로|교차로횡단보도내|                  화물차|           화물차|                  보행자|           보행자|      957606.0|     1958258.0|127.0195897|37.62279351|\n",
      "|  2018|  2018123004|    19|  야|  일|       1|       1|       0|       0|           0|      서울|      강북구|       차대사람|         횡단중|    횡단중| 운전자법규위반|안전운전 의무 불이행|         단일로|      기타단일로|                  승용차|           승용차|                  보행자|           보행자|      957823.0|     1957100.0|127.0221154|37.61236625|\n",
      "|  2018|  2018012907|    17|  주|  월|       1|       1|       0|       0|           0|      서울|      광진구|       차대사람|         횡단중|    횡단중| 운전자법규위반|            신호위반|         단일로|      기타단일로|                  화물차|           화물차|                  보행자|           보행자|      963182.0|     1948990.0|127.0832413|37.53949856|\n",
      "|  2018|  2018051104|    47|  야|  금|       1|       1|       0|       0|           0|      서울|      마포구|       차대사람|         횡단중|    횡단중| 운전자법규위반|                과속|         단일로|      기타단일로|                  승용차|           승용차|                  보행자|           보행자|      951656.0|     1949822.0|126.9527236|37.54646503|\n",
      "|  2018|  2018042423|    50|  야|  화|       1|       1|       0|       0|           0|      서울|    영등포구|       차대사람|         횡단중|    횡단중| 운전자법규위반|안전운전 의무 불이행|         단일로|      기타단일로|                  승용차|           승용차|                  보행자|           보행자|      947686.0|     1946843.0|126.9079958|37.51939806|\n",
      "|  2018|  2018020407|     7|  주|  일|       1|       1|       0|       0|           0|      서울|    영등포구|       차대사람|         횡단중|    횡단중| 운전자법규위반|            신호위반|         교차로|        교차로내|                  승합차|           승합차|                  보행자|           보행자|      946758.0|     1944726.0|126.8976481|37.50026411|\n",
      "|  2018|  2018112904|    18|  야|  목|       1|       1|       0|       0|           0|      서울|      성동구|       차대사람|           기타|      기타| 운전자법규위반|                과속|         단일로|      기타단일로|                  승용차|           승용차|                  보행자|           보행자|      959955.0|     1950388.0|127.0466383|37.55196461|\n",
      "|  2018|  2018061711|     5|  주|  일|       1|       1|       0|       0|           0|      서울|      성동구|         차대차|           기타|      기타| 운전자법규위반|안전운전 의무 불이행|         교차로|      교차로부근|                  자전거|           자전거|                  자전거|           자전거|      958712.0|     1949157.0|127.0326356|37.54081437|\n",
      "|  2018|  2018010414|    20|  주|  목|       1|       1|       0|       0|           0|      서울|      동작구|       차대사람|           기타|      기타| 운전자법규위반|안전운전 의무 불이행|           기타|            기타|                  화물차|           화물차|                  보행자|           보행자|      949202.0|     1944843.0|126.9252888|37.50145641|\n",
      "|  2018|  2018020612|     0|  주|  화|       1|       1|       0|       0|           0|      서울|      동작구|       차대사람|         횡단중|    횡단중| 운전자법규위반|안전운전 의무 불이행|         교차로|교차로횡단보도내|                  승용차|           승용차|                  보행자|           보행자|      950276.0|     1945198.0|126.9374151|37.50471459|\n",
      "|  2018|  2018080421|    30|  야|  토|       1|       1|       0|       0|           0|      서울|      중랑구|       차대사람|     보도통행중|보도통행중| 운전자법규위반|            신호위반|         단일로|      기타단일로|                  자전거|           자전거|                  보행자|           보행자|      963551.0|     1954643.0| 127.087137|37.59046559|\n",
      "|  2018|  2018080910|    55|  주|  목|       1|       1|       0|       0|           0|      서울|      관악구|       차대사람|     차도통행중|차도통행중| 운전자법규위반|안전운전 의무 불이행|         교차로|        교차로내|                  화물차|           화물차|                  보행자|           보행자|      948543.0|     1941973.0|126.9180342|37.47555196|\n",
      "|  2018|  2018031708|     0|  주|  토|       1|       4|       3|       0|           0|      서울|      강남구|         차대차|           추돌|      추돌| 운전자법규위반|안전운전 의무 불이행|         단일로|      기타단일로|                  승용차|           승용차|                  특수차|           특수차|      960119.0|     1947879.0|127.0486312|37.52935729|\n",
      "|  2018|  2018071903|    20|  야|  목|       1|       1|       0|       0|           0|      서울|      강남구|         차대차|           추돌|      추돌| 운전자법규위반|안전운전 의무 불이행|         단일로|      기타단일로|                  승용차|           승용차|                건설기계|         건설기계|      958982.0|     1947813.0|127.0357669|37.52871253|\n",
      "|  2018|  2018091819|    30|  야|  화|       1|       1|       0|       0|           0|      서울|      강서구|       차대사람|         횡단중|    횡단중| 운전자법규위반|            신호위반|         교차로|        교차로내|                  승합차|           승합차|                  보행자|           보행자|      944291.0|     1950110.0|126.8693309|37.54864494|\n",
      "|  2018|  2018011907|    18|  주|  금|       1|       1|       0|       0|           0|      서울|      송파구|       차대사람|         횡단중|    횡단중| 운전자법규위반|안전운전 의무 불이행|         단일로|      기타단일로|                  승용차|           승용차|                  보행자|           보행자|      965139.0|     1946555.0|127.1055086|37.51762701|\n",
      "+------+------------+------+----+----+--------+--------+--------+--------+------------+----------+------------+---------------+---------------+----------+---------------+--------------------+---------------+----------------+------------------------+-----------------+------------------------+-----------------+--------------+--------------+-----------+-----------+\n",
      "only showing top 20 rows\n",
      "\n"
     ]
    }
   ],
   "source": [
    "trafDF = sqlCtx.read.csv('data/traffic.csv', encoding='cp949', header=True, inferSchema=True)\n",
    "trafDF.show()"
   ]
  },
  {
   "cell_type": "code",
   "execution_count": 10,
   "metadata": {},
   "outputs": [
    {
     "name": "stdout",
     "output_type": "stream",
     "text": [
      "root\n",
      " |-- 발생년: integer (nullable = true)\n",
      " |-- 발생년월일시: integer (nullable = true)\n",
      " |-- 발생분: integer (nullable = true)\n",
      " |-- 주야: string (nullable = true)\n",
      " |-- 요일: string (nullable = true)\n",
      " |-- 사망자수: integer (nullable = true)\n",
      " |-- 사상자수: integer (nullable = true)\n",
      " |-- 중상자수: integer (nullable = true)\n",
      " |-- 경상자수: integer (nullable = true)\n",
      " |-- 부상신고자수: integer (nullable = true)\n",
      " |-- 발생지시도: string (nullable = true)\n",
      " |-- 발생지시군구: string (nullable = true)\n",
      " |-- 사고유형_대분류: string (nullable = true)\n",
      " |-- 사고유형_중분류: string (nullable = true)\n",
      " |-- 사고유형: string (nullable = true)\n",
      " |-- 법규위반_대분류: string (nullable = true)\n",
      " |-- 법규위반: string (nullable = true)\n",
      " |-- 도로형태_대분류: string (nullable = true)\n",
      " |-- 도로형태: string (nullable = true)\n",
      " |-- 가해자_당사자종별_대분류: string (nullable = true)\n",
      " |-- 가해자_당사자종별: string (nullable = true)\n",
      " |-- 피해자_당사자종별_대분류: string (nullable = true)\n",
      " |-- 피해자_당사자종별: string (nullable = true)\n",
      " |-- 발생위치X_UTMK: double (nullable = true)\n",
      " |-- 발생위치Y_UTMK: double (nullable = true)\n",
      " |-- 경도: double (nullable = true)\n",
      " |-- 위도: double (nullable = true)\n",
      "\n"
     ]
    }
   ],
   "source": [
    "trafDF.printSchema()"
   ]
  },
  {
   "cell_type": "code",
   "execution_count": 11,
   "metadata": {},
   "outputs": [
    {
     "name": "stderr",
     "output_type": "stream",
     "text": [
      "[Stage 3:>                                                          (0 + 1) / 1]\r"
     ]
    },
    {
     "name": "stdout",
     "output_type": "stream",
     "text": [
      "+----+-------------+-------------+\n",
      "|요일|sum(사상자수)|sum(사망자수)|\n",
      "+----+-------------+-------------+\n",
      "|  목|          841|          540|\n",
      "|  일|          728|          458|\n",
      "|  금|          839|          581|\n",
      "|  수|          791|          546|\n",
      "|  월|          813|          535|\n",
      "|  화|          835|          552|\n",
      "|  토|          849|          569|\n",
      "+----+-------------+-------------+\n",
      "\n"
     ]
    },
    {
     "name": "stderr",
     "output_type": "stream",
     "text": [
      "                                                                                \r"
     ]
    }
   ],
   "source": [
    "#1. 요일별 사망자수, 사상자수를 구하시오\n",
    "trafDF.groupBy(\"요일\").sum(\"사상자수\", \"사망자수\").show() \n"
   ]
  },
  {
   "cell_type": "code",
   "execution_count": 112,
   "metadata": {},
   "outputs": [
    {
     "name": "stdout",
     "output_type": "stream",
     "text": [
      "+------------+-------------+-------------+\n",
      "|발생지시군구|sum(사상자수)|sum(사망자수)|\n",
      "+------------+-------------+-------------+\n",
      "|      강남구|           28|           20|\n",
      "|      강동구|           16|           12|\n",
      "|      강북구|           21|           13|\n",
      "|      강서구|           18|           11|\n",
      "|      관악구|            9|            8|\n",
      "|      광진구|           17|           10|\n",
      "|      구로구|           17|           13|\n",
      "|      금천구|            7|            6|\n",
      "|      노원구|           17|           14|\n",
      "|      도봉구|            6|            6|\n",
      "|    동대문구|           14|           14|\n",
      "|      동작구|           10|            9|\n",
      "|      마포구|           12|           11|\n",
      "|    서대문구|            5|            5|\n",
      "|      서초구|           35|           18|\n",
      "|      성동구|           10|            9|\n",
      "|      성북구|           17|           14|\n",
      "|      송파구|           60|           27|\n",
      "|      양천구|           13|           11|\n",
      "|    영등포구|           30|           22|\n",
      "|      용산구|           15|           14|\n",
      "|      은평구|           13|           12|\n",
      "|      종로구|            8|            6|\n",
      "|        중구|           12|            9|\n",
      "|      중랑구|           15|           10|\n",
      "+------------+-------------+-------------+\n",
      "\n"
     ]
    }
   ],
   "source": [
    "#2. 서울시의 구별 사망자와 사상자 수를 구하시오\n",
    "trafDF.where(trafDF['발생지시도'] == '서울').groupBy(\"발생지시군구\").sum(\"사상자수\", \"사망자수\").orderBy('발생지시군구').show(29) "
   ]
  },
  {
   "cell_type": "code",
   "execution_count": 30,
   "metadata": {},
   "outputs": [
    {
     "name": "stdout",
     "output_type": "stream",
     "text": [
      "+----------------+--------------------+\n",
      "|        도로형태|            사고유형|\n",
      "+----------------+--------------------+\n",
      "|      기타단일로|          보도통행중|\n",
      "|        교차로내|          차도통행중|\n",
      "|교차로횡단보도내|          보도통행중|\n",
      "|      기타단일로|길가장자리구역통행중|\n",
      "|      기타단일로|          차도통행중|\n",
      "|      기타단일로|          보도통행중|\n",
      "|      기타단일로|          차도통행중|\n",
      "|      기타단일로|          차도통행중|\n",
      "|      기타단일로|          차도통행중|\n",
      "|      기타단일로|          보도통행중|\n",
      "|        교차로내|          보도통행중|\n",
      "|      기타단일로|          차도통행중|\n",
      "|          주차장|길가장자리구역통행중|\n",
      "|            기타|길가장자리구역통행중|\n",
      "|            기타|          차도통행중|\n",
      "|            기타|          차도통행중|\n",
      "|      기타단일로|          차도통행중|\n",
      "|      교차로부근|          차도통행중|\n",
      "|      기타단일로|          차도통행중|\n",
      "|        교차로내|          차도통행중|\n",
      "+----------------+--------------------+\n",
      "only showing top 20 rows\n",
      "\n"
     ]
    }
   ],
   "source": [
    "#3. 사고유형이 '통행' 관련 도로형태 데이터를 구하시오\n",
    "trafDF.select('도로형태', '사고유형').filter(col(\"사고유형\").rlike(\"통행\")).show()"
   ]
  },
  {
   "cell_type": "code",
   "execution_count": 34,
   "metadata": {},
   "outputs": [
    {
     "name": "stdout",
     "output_type": "stream",
     "text": [
      "+-------------+-------------+\n",
      "|sum(사망자수)|sum(사상자수)|\n",
      "+-------------+-------------+\n",
      "|          123|          188|\n",
      "+-------------+-------------+\n",
      "\n"
     ]
    }
   ],
   "source": [
    "#4 부산지역 사망자수, 사상자수 총합을 구하시오\n",
    "trafDF.where(trafDF['발생지시도'] == '부산').agg({'사망자수':'sum', \"사상자수\":\"sum\"}).show() "
   ]
  },
  {
   "cell_type": "code",
   "execution_count": 43,
   "metadata": {},
   "outputs": [],
   "source": [
    "from pyspark.sql.window import Window\n",
    "\n",
    "mywin = Window.orderBy(functions.desc('사망자수합')) "
   ]
  },
  {
   "cell_type": "code",
   "execution_count": 113,
   "metadata": {},
   "outputs": [
    {
     "name": "stdout",
     "output_type": "stream",
     "text": [
      "22/12/22 18:12:29 WARN WindowExec: No Partition Defined for Window operation! Moving all data to a single partition, this can cause serious performance degradation.\n",
      "22/12/22 18:12:29 WARN WindowExec: No Partition Defined for Window operation! Moving all data to a single partition, this can cause serious performance degradation.\n",
      "22/12/22 18:12:29 WARN WindowExec: No Partition Defined for Window operation! Moving all data to a single partition, this can cause serious performance degradation.\n",
      "22/12/22 18:12:29 WARN WindowExec: No Partition Defined for Window operation! Moving all data to a single partition, this can cause serious performance degradation.\n",
      "22/12/22 18:12:29 WARN WindowExec: No Partition Defined for Window operation! Moving all data to a single partition, this can cause serious performance degradation.\n",
      "22/12/22 18:12:30 WARN WindowExec: No Partition Defined for Window operation! Moving all data to a single partition, this can cause serious performance degradation.\n",
      "22/12/22 18:12:30 WARN WindowExec: No Partition Defined for Window operation! Moving all data to a single partition, this can cause serious performance degradation.\n"
     ]
    },
    {
     "data": {
      "text/html": [
       "<div>\n",
       "<style scoped>\n",
       "    .dataframe tbody tr th:only-of-type {\n",
       "        vertical-align: middle;\n",
       "    }\n",
       "\n",
       "    .dataframe tbody tr th {\n",
       "        vertical-align: top;\n",
       "    }\n",
       "\n",
       "    .dataframe thead th {\n",
       "        text-align: right;\n",
       "    }\n",
       "</style>\n",
       "<table border=\"1\" class=\"dataframe\">\n",
       "  <thead>\n",
       "    <tr style=\"text-align: right;\">\n",
       "      <th></th>\n",
       "      <th>발생지시군구</th>\n",
       "      <th>사망자수합</th>\n",
       "      <th>사망자순위</th>\n",
       "    </tr>\n",
       "  </thead>\n",
       "  <tbody>\n",
       "    <tr>\n",
       "      <th>0</th>\n",
       "      <td>부산진구</td>\n",
       "      <td>18</td>\n",
       "      <td>1</td>\n",
       "    </tr>\n",
       "    <tr>\n",
       "      <th>1</th>\n",
       "      <td>강서구</td>\n",
       "      <td>15</td>\n",
       "      <td>2</td>\n",
       "    </tr>\n",
       "    <tr>\n",
       "      <th>2</th>\n",
       "      <td>사상구</td>\n",
       "      <td>15</td>\n",
       "      <td>2</td>\n",
       "    </tr>\n",
       "    <tr>\n",
       "      <th>3</th>\n",
       "      <td>해운대구</td>\n",
       "      <td>12</td>\n",
       "      <td>3</td>\n",
       "    </tr>\n",
       "    <tr>\n",
       "      <th>4</th>\n",
       "      <td>남구</td>\n",
       "      <td>9</td>\n",
       "      <td>4</td>\n",
       "    </tr>\n",
       "    <tr>\n",
       "      <th>5</th>\n",
       "      <td>기장군</td>\n",
       "      <td>8</td>\n",
       "      <td>5</td>\n",
       "    </tr>\n",
       "    <tr>\n",
       "      <th>6</th>\n",
       "      <td>금정구</td>\n",
       "      <td>7</td>\n",
       "      <td>6</td>\n",
       "    </tr>\n",
       "    <tr>\n",
       "      <th>7</th>\n",
       "      <td>북구</td>\n",
       "      <td>6</td>\n",
       "      <td>7</td>\n",
       "    </tr>\n",
       "    <tr>\n",
       "      <th>8</th>\n",
       "      <td>서구</td>\n",
       "      <td>6</td>\n",
       "      <td>7</td>\n",
       "    </tr>\n",
       "    <tr>\n",
       "      <th>9</th>\n",
       "      <td>동래구</td>\n",
       "      <td>6</td>\n",
       "      <td>7</td>\n",
       "    </tr>\n",
       "    <tr>\n",
       "      <th>10</th>\n",
       "      <td>연제구</td>\n",
       "      <td>5</td>\n",
       "      <td>8</td>\n",
       "    </tr>\n",
       "    <tr>\n",
       "      <th>11</th>\n",
       "      <td>영도구</td>\n",
       "      <td>5</td>\n",
       "      <td>8</td>\n",
       "    </tr>\n",
       "    <tr>\n",
       "      <th>12</th>\n",
       "      <td>사하구</td>\n",
       "      <td>3</td>\n",
       "      <td>9</td>\n",
       "    </tr>\n",
       "    <tr>\n",
       "      <th>13</th>\n",
       "      <td>동구</td>\n",
       "      <td>3</td>\n",
       "      <td>9</td>\n",
       "    </tr>\n",
       "    <tr>\n",
       "      <th>14</th>\n",
       "      <td>중구</td>\n",
       "      <td>3</td>\n",
       "      <td>9</td>\n",
       "    </tr>\n",
       "    <tr>\n",
       "      <th>15</th>\n",
       "      <td>수영구</td>\n",
       "      <td>2</td>\n",
       "      <td>10</td>\n",
       "    </tr>\n",
       "  </tbody>\n",
       "</table>\n",
       "</div>"
      ],
      "text/plain": [
       "   발생지시군구  사망자수합  사망자순위\n",
       "0    부산진구     18      1\n",
       "1     강서구     15      2\n",
       "2     사상구     15      2\n",
       "3    해운대구     12      3\n",
       "4      남구      9      4\n",
       "5     기장군      8      5\n",
       "6     금정구      7      6\n",
       "7      북구      6      7\n",
       "8      서구      6      7\n",
       "9     동래구      6      7\n",
       "10    연제구      5      8\n",
       "11    영도구      5      8\n",
       "12    사하구      3      9\n",
       "13     동구      3      9\n",
       "14     중구      3      9\n",
       "15    수영구      2     10"
      ]
     },
     "execution_count": 113,
     "metadata": {},
     "output_type": "execute_result"
    }
   ],
   "source": [
    "#5 부산지역 발생지시군구별 사망자수 순위를 구하시오(단 동율도 처리)\n",
    "trafDF.where(trafDF['발생지시도'] == '부산').groupBy('발생지시군구').agg(functions.sum('사망자수').alias('사망자수합')).withColumn(\"사망자순위\", functions.dense_rank().over(mywin)).toPandas()\n",
    "# .orderBy('발생지시군구').withColumn('사망자수 순위', functions.row_number().over(mywin)).show()"
   ]
  },
  {
   "cell_type": "code",
   "execution_count": 114,
   "metadata": {},
   "outputs": [
    {
     "data": {
      "text/html": [
       "<div>\n",
       "<style scoped>\n",
       "    .dataframe tbody tr th:only-of-type {\n",
       "        vertical-align: middle;\n",
       "    }\n",
       "\n",
       "    .dataframe tbody tr th {\n",
       "        vertical-align: top;\n",
       "    }\n",
       "\n",
       "    .dataframe thead th {\n",
       "        text-align: right;\n",
       "    }\n",
       "</style>\n",
       "<table border=\"1\" class=\"dataframe\">\n",
       "  <thead>\n",
       "    <tr style=\"text-align: right;\">\n",
       "      <th></th>\n",
       "      <th>법규위반</th>\n",
       "      <th>법규위반별 사건수</th>\n",
       "    </tr>\n",
       "  </thead>\n",
       "  <tbody>\n",
       "    <tr>\n",
       "      <th>0</th>\n",
       "      <td>안전운전 의무 불이행</td>\n",
       "      <td>2523</td>\n",
       "    </tr>\n",
       "    <tr>\n",
       "      <th>1</th>\n",
       "      <td>신호위반</td>\n",
       "      <td>288</td>\n",
       "    </tr>\n",
       "    <tr>\n",
       "      <th>2</th>\n",
       "      <td>중앙선 침범</td>\n",
       "      <td>260</td>\n",
       "    </tr>\n",
       "    <tr>\n",
       "      <th>3</th>\n",
       "      <td>과속</td>\n",
       "      <td>220</td>\n",
       "    </tr>\n",
       "    <tr>\n",
       "      <th>4</th>\n",
       "      <td>보행자 보호의무 위반</td>\n",
       "      <td>134</td>\n",
       "    </tr>\n",
       "    <tr>\n",
       "      <th>5</th>\n",
       "      <td>안전거리 미확보</td>\n",
       "      <td>65</td>\n",
       "    </tr>\n",
       "    <tr>\n",
       "      <th>6</th>\n",
       "      <td>교차로 통행방법 위반</td>\n",
       "      <td>56</td>\n",
       "    </tr>\n",
       "    <tr>\n",
       "      <th>7</th>\n",
       "      <td>기타(운전자법규위반)</td>\n",
       "      <td>35</td>\n",
       "    </tr>\n",
       "    <tr>\n",
       "      <th>8</th>\n",
       "      <td>직진 및 우회전차의 통행방해</td>\n",
       "      <td>26</td>\n",
       "    </tr>\n",
       "    <tr>\n",
       "      <th>9</th>\n",
       "      <td>부당한 회전</td>\n",
       "      <td>18</td>\n",
       "    </tr>\n",
       "    <tr>\n",
       "      <th>10</th>\n",
       "      <td>차로위반(진로변경 위반)</td>\n",
       "      <td>12</td>\n",
       "    </tr>\n",
       "    <tr>\n",
       "      <th>11</th>\n",
       "      <td>서행 및 일시정지위반</td>\n",
       "      <td>5</td>\n",
       "    </tr>\n",
       "    <tr>\n",
       "      <th>12</th>\n",
       "      <td>앞지르기 방법위반</td>\n",
       "      <td>5</td>\n",
       "    </tr>\n",
       "    <tr>\n",
       "      <th>13</th>\n",
       "      <td>앞지르기 금지위반</td>\n",
       "      <td>5</td>\n",
       "    </tr>\n",
       "    <tr>\n",
       "      <th>14</th>\n",
       "      <td>정비불량 제차의 운전금지위반</td>\n",
       "      <td>2</td>\n",
       "    </tr>\n",
       "    <tr>\n",
       "      <th>15</th>\n",
       "      <td>철길건널목 통과방법위반</td>\n",
       "      <td>2</td>\n",
       "    </tr>\n",
       "    <tr>\n",
       "      <th>16</th>\n",
       "      <td>긴급자동차에대한 피양의무 위반</td>\n",
       "      <td>1</td>\n",
       "    </tr>\n",
       "  </tbody>\n",
       "</table>\n",
       "</div>"
      ],
      "text/plain": [
       "                법규위반  법규위반별 사건수\n",
       "0        안전운전 의무 불이행       2523\n",
       "1               신호위반        288\n",
       "2             중앙선 침범        260\n",
       "3                 과속        220\n",
       "4        보행자 보호의무 위반        134\n",
       "5           안전거리 미확보         65\n",
       "6        교차로 통행방법 위반         56\n",
       "7        기타(운전자법규위반)         35\n",
       "8    직진 및 우회전차의 통행방해         26\n",
       "9             부당한 회전         18\n",
       "10     차로위반(진로변경 위반)         12\n",
       "11       서행 및 일시정지위반          5\n",
       "12         앞지르기 방법위반          5\n",
       "13         앞지르기 금지위반          5\n",
       "14   정비불량 제차의 운전금지위반          2\n",
       "15      철길건널목 통과방법위반          2\n",
       "16  긴급자동차에대한 피양의무 위반          1"
      ]
     },
     "execution_count": 114,
     "metadata": {},
     "output_type": "execute_result"
    }
   ],
   "source": [
    "#6. 법규위반별 사건 수 내림차순으로 구하시오\n",
    "trafDF.groupBy('법규위반').agg(functions.count('법규위반').alias('법규위반별 사건수')).orderBy(functions.desc('법규위반별 사건수')).toPandas()"
   ]
  },
  {
   "cell_type": "code",
   "execution_count": 57,
   "metadata": {},
   "outputs": [
    {
     "name": "stdout",
     "output_type": "stream",
     "text": [
      "+------+\n",
      "|발생월|\n",
      "+------+\n",
      "|     2|\n",
      "|     9|\n",
      "|    12|\n",
      "|     8|\n",
      "|     7|\n",
      "|    12|\n",
      "|     1|\n",
      "|     5|\n",
      "|     4|\n",
      "|     2|\n",
      "|    11|\n",
      "|     6|\n",
      "|     1|\n",
      "|     2|\n",
      "|     8|\n",
      "|     8|\n",
      "|     3|\n",
      "|     7|\n",
      "|     9|\n",
      "|     1|\n",
      "+------+\n",
      "only showing top 20 rows\n",
      "\n"
     ]
    }
   ],
   "source": [
    "#7. 발생월별 사건 수를 바차트로 그리기\n",
    "trafDF = trafDF.withColumn('발생월', trafDF['발생년월일시'][5:2].cast( IntegerType()))"
   ]
  },
  {
   "cell_type": "code",
   "execution_count": 116,
   "metadata": {},
   "outputs": [
    {
     "name": "stdout",
     "output_type": "stream",
     "text": [
      "+------+-----------------+\n",
      "|발생월|발생월별 사상자수|\n",
      "+------+-----------------+\n",
      "|     1|              297|\n",
      "|     2|              267|\n",
      "|     3|              295|\n",
      "|     4|              292|\n",
      "|     5|              290|\n",
      "|     6|              255|\n",
      "|     7|              305|\n",
      "|     8|              348|\n",
      "|     9|              339|\n",
      "|    10|              363|\n",
      "|    11|              292|\n",
      "|    12|              314|\n",
      "+------+-----------------+\n",
      "\n"
     ]
    }
   ],
   "source": [
    "mondeathDF = trafDF.groupBy('발생월').agg(functions.count('사상자수').alias('발생월별 사상자수')).orderBy('발생월')\n",
    "mondeathDF.show()"
   ]
  },
  {
   "cell_type": "code",
   "execution_count": 66,
   "metadata": {},
   "outputs": [],
   "source": [
    "import matplotlib.pyplot as plt"
   ]
  },
  {
   "cell_type": "code",
   "execution_count": 67,
   "metadata": {},
   "outputs": [
    {
     "data": {
      "text/plain": [
       "<AxesSubplot:xlabel='발생월'>"
      ]
     },
     "execution_count": 67,
     "metadata": {},
     "output_type": "execute_result"
    },
    {
     "name": "stderr",
     "output_type": "stream",
     "text": [
      "/home/mobile/anaconda3/lib/python3.9/site-packages/IPython/core/pylabtools.py:151: UserWarning: Glyph 48156 (\\N{HANGUL SYLLABLE BAL}) missing from current font.\n",
      "  fig.canvas.print_figure(bytes_io, **kw)\n",
      "/home/mobile/anaconda3/lib/python3.9/site-packages/IPython/core/pylabtools.py:151: UserWarning: Glyph 49373 (\\N{HANGUL SYLLABLE SAENG}) missing from current font.\n",
      "  fig.canvas.print_figure(bytes_io, **kw)\n",
      "/home/mobile/anaconda3/lib/python3.9/site-packages/IPython/core/pylabtools.py:151: UserWarning: Glyph 50900 (\\N{HANGUL SYLLABLE WEOL}) missing from current font.\n",
      "  fig.canvas.print_figure(bytes_io, **kw)\n",
      "/home/mobile/anaconda3/lib/python3.9/site-packages/IPython/core/pylabtools.py:151: UserWarning: Glyph 48324 (\\N{HANGUL SYLLABLE BYEOL}) missing from current font.\n",
      "  fig.canvas.print_figure(bytes_io, **kw)\n",
      "/home/mobile/anaconda3/lib/python3.9/site-packages/IPython/core/pylabtools.py:151: UserWarning: Glyph 49324 (\\N{HANGUL SYLLABLE SA}) missing from current font.\n",
      "  fig.canvas.print_figure(bytes_io, **kw)\n",
      "/home/mobile/anaconda3/lib/python3.9/site-packages/IPython/core/pylabtools.py:151: UserWarning: Glyph 49345 (\\N{HANGUL SYLLABLE SANG}) missing from current font.\n",
      "  fig.canvas.print_figure(bytes_io, **kw)\n",
      "/home/mobile/anaconda3/lib/python3.9/site-packages/IPython/core/pylabtools.py:151: UserWarning: Glyph 51088 (\\N{HANGUL SYLLABLE JA}) missing from current font.\n",
      "  fig.canvas.print_figure(bytes_io, **kw)\n",
      "/home/mobile/anaconda3/lib/python3.9/site-packages/IPython/core/pylabtools.py:151: UserWarning: Glyph 49688 (\\N{HANGUL SYLLABLE SU}) missing from current font.\n",
      "  fig.canvas.print_figure(bytes_io, **kw)\n"
     ]
    },
    {
     "data": {
      "image/png": "[encoded data removed]",
      "text/plain": [
       "<Figure size 640x480 with 1 Axes>"
      ]
     },
     "metadata": {},
     "output_type": "display_data"
    }
   ],
   "source": [
    "mondeath = mondeathDF.toPandas()\n",
    "mondeath.plot.bar(x=\"발생월\")"
   ]
  },
  {
   "cell_type": "code",
   "execution_count": 117,
   "metadata": {},
   "outputs": [
    {
     "name": "stdout",
     "output_type": "stream",
     "text": [
      "+-----------------+\n",
      "|보행자 피해 건 수|\n",
      "+-----------------+\n",
      "|             1436|\n",
      "+-----------------+\n",
      "\n"
     ]
    }
   ],
   "source": [
    "# 8. 피해자가 보행자인 건 수 \n",
    "trafDF.select('피해자_당사자종별').where(trafDF['피해자_당사자종별'] == '보행자').agg(functions.count('피해자_당사자종별').alias('보행자 피해 건 수')).show()"
   ]
  },
  {
   "cell_type": "code",
   "execution_count": 88,
   "metadata": {},
   "outputs": [
    {
     "name": "stdout",
     "output_type": "stream",
     "text": [
      "+----+-------------+-------------+\n",
      "|주야|sum(사상자수)|sum(사망자수)|\n",
      "+----+-------------+-------------+\n",
      "|  야|         2682|         1863|\n",
      "|  주|         3014|         1918|\n",
      "+----+-------------+-------------+\n",
      "\n"
     ]
    }
   ],
   "source": [
    "#9. 주야별 사상자수, 사망자수\n",
    "trafDF.select('주야', '사상자수', '사망자수').groupBy('주야').sum().show()"
   ]
  },
  {
   "cell_type": "code",
   "execution_count": null,
   "metadata": {},
   "outputs": [],
   "source": [
    "#10. 총 피해자(사상, 사망, 중상, 경상, 부상피해) 수\n"
   ]
  },
  {
   "cell_type": "code",
   "execution_count": 108,
   "metadata": {},
   "outputs": [
    {
     "name": "stdout",
     "output_type": "stream",
     "text": [
      "+---+\n",
      "|sum|\n",
      "+---+\n",
      "|  2|\n",
      "|  2|\n",
      "|  2|\n",
      "|  2|\n",
      "|  2|\n",
      "|  2|\n",
      "|  2|\n",
      "|  2|\n",
      "|  2|\n",
      "|  2|\n",
      "|  2|\n",
      "|  2|\n",
      "|  2|\n",
      "|  2|\n",
      "|  2|\n",
      "|  2|\n",
      "|  8|\n",
      "|  2|\n",
      "|  2|\n",
      "|  2|\n",
      "+---+\n",
      "only showing top 20 rows\n",
      "\n"
     ]
    }
   ],
   "source": [
    "victimDF = trafDF.withColumn(\"sum\", col(\"사망자수\")+col(\"사상자수\")+col(\"중상자수\")+col(\"경상자수\")+col(\"부상신고자수\"))\n",
    "victimDF.select('sum').show()"
   ]
  },
  {
   "cell_type": "code",
   "execution_count": 109,
   "metadata": {},
   "outputs": [
    {
     "name": "stdout",
     "output_type": "stream",
     "text": [
      "+------------+\n",
      "|총 피해자 수|\n",
      "+------------+\n",
      "|       11392|\n",
      "+------------+\n",
      "\n"
     ]
    }
   ],
   "source": [
    "victimDF.agg(functions.sum('sum').alias('총 피해자 수')).show()"
   ]
  },
  {
   "cell_type": "code",
   "execution_count": null,
   "metadata": {},
   "outputs": [],
   "source": []
  }
 ],
 "metadata": {
  "kernelspec": {
   "display_name": "base",
   "language": "python",
   "name": "python3"
  },
  "language_info": {
   "codemirror_mode": {
    "name": "ipython",
    "version": 3
   },
   "file_extension": ".py",
   "mimetype": "text/x-python",
   "name": "python",
   "nbconvert_exporter": "python",
   "pygments_lexer": "ipython3",
   "version": "3.9.13"
  },
  "orig_nbformat": 4,
  "vscode": {
   "interpreter": {
    "hash": "4bc56b056e65fd958025fe4a93f627cfa2e469dd485a3073439c46152bdb4f56"
   }
  }
 },
 "nbformat": 4,
 "nbformat_minor": 2
}

{
 "cells": [
  {
   "cell_type": "code",
   "execution_count": 1,
   "id": "45867fa9-a013-4953-a4b4-0ed9341cdf52",
   "metadata": {},
   "outputs": [
    {
     "name": "stderr",
     "output_type": "stream",
     "text": [
      "Setting default log level to \"WARN\".\n",
      "To adjust logging level use sc.setLogLevel(newLevel). For SparkR, use setLogLevel(newLevel).\n"
     ]
    },
    {
     "name": "stdout",
     "output_type": "stream",
     "text": [
      "22/12/20 05:55:04 WARN NativeCodeLoader: Unable to load native-hadoop library for your platform... using builtin-java classes where applicable\n",
      "22/12/20 05:55:10 WARN Utils: Service 'SparkUI' could not bind on port 4040. Attempting port 4041.\n",
      "22/12/20 05:55:10 WARN Utils: Service 'SparkUI' could not bind on port 4041. Attempting port 4042.\n"
     ]
    }
   ],
   "source": [
    "from pyspark import SparkContext\n",
    "sc = SparkContext('local')"
   ]
  },
  {
   "cell_type": "code",
   "execution_count": 2,
   "id": "77946574-f701-4320-988e-09b1ed3732ee",
   "metadata": {},
   "outputs": [],
   "source": [
    "empList=['1,kim,000-000-000','2,lee,111-111-111',\n",
    "       '3,park,222-222-222','4,song,333-333-333',\n",
    "       '5,han,555-555-555','6,yoon,666-666-666']\n",
    "\n",
    "deptList = ['1,sale','2,developer','3,manager',\n",
    "           '4,sale1','5,developer1','6,manager1']"
   ]
  },
  {
   "cell_type": "code",
   "execution_count": 3,
   "id": "e96c73da-c1d4-4442-8699-d3bb2dde896e",
   "metadata": {},
   "outputs": [],
   "source": [
    "emprdd = sc.parallelize(empList)\n",
    "deptrdd = sc.parallelize(deptList)"
   ]
  },
  {
   "cell_type": "code",
   "execution_count": 4,
   "id": "7a11cf2d-1ecc-4cad-beb0-ebb53b576319",
   "metadata": {},
   "outputs": [
    {
     "name": "stderr",
     "output_type": "stream",
     "text": [
      "                                                                                \r"
     ]
    },
    {
     "data": {
      "text/plain": [
       "[['1', 'kim', '000-000-000'],\n",
       " ['2', 'lee', '111-111-111'],\n",
       " ['3', 'park', '222-222-222'],\n",
       " ['4', 'song', '333-333-333'],\n",
       " ['5', 'han', '555-555-555'],\n",
       " ['6', 'yoon', '666-666-666']]"
      ]
     },
     "execution_count": 4,
     "metadata": {},
     "output_type": "execute_result"
    }
   ],
   "source": [
    "emprdd1 = emprdd.map(lambda v:v.split(','))\n",
    "emprdd1.collect()"
   ]
  },
  {
   "cell_type": "code",
   "execution_count": 5,
   "id": "feabe7cf-100b-4bb5-bcc1-988a72014f33",
   "metadata": {},
   "outputs": [
    {
     "data": {
      "text/plain": [
       "[('1', 'kim 000-000-000'), ('2', 'lee 111-111-111'), ('3', 'park 222-222-222')]"
      ]
     },
     "execution_count": 5,
     "metadata": {},
     "output_type": "execute_result"
    }
   ],
   "source": [
    "emprdd2=emprdd1.map(lambda v:(v[0],v[1]+' '+v[2]))\n",
    "emprdd2.take(3)"
   ]
  },
  {
   "cell_type": "code",
   "execution_count": 6,
   "id": "1e3d6e25-228a-483f-a273-69151dd03256",
   "metadata": {},
   "outputs": [
    {
     "data": {
      "text/plain": [
       "[('1', 'sale'), ('2', 'developer'), ('3', 'manager')]"
      ]
     },
     "execution_count": 6,
     "metadata": {},
     "output_type": "execute_result"
    }
   ],
   "source": [
    "deptrdd1=deptrdd.map(lambda v : v.split(',')).map(lambda v : (v[0],v[1]))\n",
    "deptrdd1.take(3)"
   ]
  },
  {
   "cell_type": "code",
   "execution_count": 7,
   "id": "7dab987f-9fbf-4b88-bd1e-8a0d3ffd9fbe",
   "metadata": {},
   "outputs": [
    {
     "name": "stderr",
     "output_type": "stream",
     "text": [
      "                                                                                \r"
     ]
    },
    {
     "data": {
      "text/plain": [
       "[('1', ('kim 000-000-000', 'sale')),\n",
       " ('4', ('song 333-333-333', 'sale1')),\n",
       " ('2', ('lee 111-111-111', 'developer'))]"
      ]
     },
     "execution_count": 7,
     "metadata": {},
     "output_type": "execute_result"
    }
   ],
   "source": [
    "join_data=emprdd2.join(deptrdd1)\n",
    "join_data.take(3)"
   ]
  },
  {
   "cell_type": "code",
   "execution_count": 8,
   "id": "92ff4fe1-6fbe-4cd3-b762-9ac389dfdd8d",
   "metadata": {},
   "outputs": [
    {
     "data": {
      "text/plain": [
       "[('1', ('kim 000-000-000', 'sale')),\n",
       " ('2', ('lee 111-111-111', 'developer')),\n",
       " ('3', ('park 222-222-222', 'manager'))]"
      ]
     },
     "execution_count": 8,
     "metadata": {},
     "output_type": "execute_result"
    }
   ],
   "source": [
    "sortrdd = join_data.sortByKey()\n",
    "sortrdd.take(3)"
   ]
  },
  {
   "cell_type": "code",
   "execution_count": 10,
   "id": "85f83091-2af9-4a36-ad06-9ba0af00133b",
   "metadata": {},
   "outputs": [
    {
     "name": "stderr",
     "output_type": "stream",
     "text": [
      "                                                                                \r"
     ]
    },
    {
     "data": {
      "text/plain": [
       "['year,height,weight,grade,gender,gradecode,gendercode',\n",
       " '2017,152.5,47.9,elementary,man,2,1',\n",
       " '2017,153.2,46.6,elementary,woman,2,0',\n",
       " '2017,170.6,63.8,middle,man,0,1',\n",
       " '2017,160.4,54.2,middle,woman,0,0',\n",
       " '2017,173.9,72.3,high,man,1,1',\n",
       " '2017,160.9,57.7,high,woman,1,0']"
      ]
     },
     "execution_count": 10,
     "metadata": {},
     "output_type": "execute_result"
    }
   ],
   "source": [
    "weightrdd = sc.textFile('./main/data/weight.csv')\n",
    "weightrdd.collect()"
   ]
  },
  {
   "cell_type": "code",
   "execution_count": null,
   "id": "6fac1863-f0bd-4730-9619-aa6d02475806",
   "metadata": {},
   "outputs": [
    {
     "name": "stderr",
     "output_type": "stream",
     "text": [
      "                                                                                \r"
     ]
    },
    {
     "data": {
      "text/plain": [
       "[['year', 'height', 'weight', 'grade', 'gender', 'gradecode', 'gendercode'],\n",
       " ['2017', '152.5', '47.9', 'elementary', 'man', '2', '1'],\n",
       " ['2017', '153.2', '46.6', 'elementary', 'woman', '2', '0']]"
      ]
     },
     "execution_count": 19,
     "metadata": {},
     "output_type": "execute_result"
    }
   ],
   "source": [
    "weightrdd.map(lambda x : x.split(',')).take(3)"
   ]
  },
  {
   "cell_type": "code",
   "execution_count": null,
   "id": "ee8b9942-54fe-40af-b485-e241aaed18bc",
   "metadata": {},
   "outputs": [
    {
     "name": "stderr",
     "output_type": "stream",
     "text": [
      "                                                                                \r"
     ]
    },
    {
     "data": {
      "text/plain": [
       "[(['year', 'height', 'weight', 'grade', 'gender', 'gradecode', 'gendercode'],\n",
       "  0),\n",
       " (['2017', '152.5', '47.9', 'elementary', 'man', '2', '1'], 1),\n",
       " (['2017', '153.2', '46.6', 'elementary', 'woman', '2', '0'], 2),\n",
       " (['2017', '170.6', '63.8', 'middle', 'man', '0', '1'], 3),\n",
       " (['2017', '160.4', '54.2', 'middle', 'woman', '0', '0'], 4),\n",
       " (['2017', '173.9', '72.3', 'high', 'man', '1', '1'], 5),\n",
       " (['2017', '160.9', '57.7', 'high', 'woman', '1', '0'], 6)]"
      ]
     },
     "execution_count": 50,
     "metadata": {},
     "output_type": "execute_result"
    }
   ],
   "source": [
    "weightrdd.map(lambda x:x.split(',')).zipWithIndex().collect()"
   ]
  },
  {
   "cell_type": "code",
   "execution_count": null,
   "id": "61eb3209-71c4-477a-b014-daef571a0daf",
   "metadata": {},
   "outputs": [],
   "source": [
    "data=weightrdd.map(lambda x : x.split(',')).filter(lambda x : x[0]!='year')"
   ]
  },
  {
   "cell_type": "code",
   "execution_count": null,
   "id": "fc6a198f-475f-44cd-bff7-60246e75ed21",
   "metadata": {},
   "outputs": [
    {
     "name": "stderr",
     "output_type": "stream",
     "text": [
      "                                                                                \r"
     ]
    },
    {
     "data": {
      "text/plain": [
       "971.4999999999999"
      ]
     },
     "execution_count": 42,
     "metadata": {},
     "output_type": "execute_result"
    }
   ],
   "source": [
    "data.map(lambda x : float(x[1])).sum()"
   ]
  },
  {
   "cell_type": "code",
   "execution_count": null,
   "id": "3ebf2a36-9342-4534-afe3-07467c74ce77",
   "metadata": {},
   "outputs": [
    {
     "data": {
      "text/plain": [
       "161.91666666666666"
      ]
     },
     "execution_count": 43,
     "metadata": {},
     "output_type": "execute_result"
    }
   ],
   "source": [
    "data.map(lambda x : float(x[1])).mean()"
   ]
  },
  {
   "cell_type": "code",
   "execution_count": null,
   "id": "bee32fb9-a6b8-4b62-bd41-2567a35c85ed",
   "metadata": {},
   "outputs": [
    {
     "data": {
      "text/plain": [
       "defaultdict(int, {'elementary': 2, 'middle': 2, 'high': 2})"
      ]
     },
     "execution_count": 47,
     "metadata": {},
     "output_type": "execute_result"
    }
   ],
   "source": [
    "data.map(lambda x : x[3]).countByValue()"
   ]
  },
  {
   "cell_type": "code",
   "execution_count": null,
   "id": "029e29ec-4d48-4349-ab2e-cd8a422e5054",
   "metadata": {},
   "outputs": [
    {
     "data": {
      "text/plain": [
       "[['2017', '173.9', '72.3', 'high', 'man', '1', '1'],\n",
       " ['2017', '170.6', '63.8', 'middle', 'man', '0', '1'],\n",
       " ['2017', '160.9', '57.7', 'high', 'woman', '1', '0'],\n",
       " ['2017', '160.4', '54.2', 'middle', 'woman', '0', '0'],\n",
       " ['2017', '152.5', '47.9', 'elementary', 'man', '2', '1'],\n",
       " ['2017', '153.2', '46.6', 'elementary', 'woman', '2', '0']]"
      ]
     },
     "execution_count": 49,
     "metadata": {},
     "output_type": "execute_result"
    }
   ],
   "source": [
    "data.sortBy(lambda x:x[2],ascending=False).collect()"
   ]
  },
  {
   "cell_type": "code",
   "execution_count": null,
   "id": "e94f4146-3efc-4a01-9f4e-c5766d06cbba",
   "metadata": {},
   "outputs": [],
   "source": [
    "# 전체 키 합과 평균\n",
    "# (ele 2 mid 2 high 2)\n",
    "# 몸무게 높은순"
   ]
  }
 ],
 "metadata": {
  "kernelspec": {
   "display_name": "Python 3 (ipykernel)",
   "language": "python",
   "name": "python3"
  },
  "language_info": {
   "codemirror_mode": {
    "name": "ipython",
    "version": 3
   },
   "file_extension": ".py",
   "mimetype": "text/x-python",
   "name": "python",
   "nbconvert_exporter": "python",
   "pygments_lexer": "ipython3",
   "version": "3.9.13"
  }
 },
 "nbformat": 4,
 "nbformat_minor": 5
}

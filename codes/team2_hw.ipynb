{
 "cells": [
  {
   "cell_type": "code",
   "execution_count": null,
   "metadata": {},
   "outputs": [],
   "source": [
    "from pyspark import SparkContext\n",
    "from pyspark.sql import SQLContext, Row\n",
    "import pandas as pd\n",
    "sc = SparkContext('local')\n",
    "sqlCtx = SQLContext(sc)"
   ]
  },
  {
   "cell_type": "code",
   "execution_count": null,
   "metadata": {},
   "outputs": [],
   "source": [
    "\n",
    "data1 = [\n",
    "    ('홍길동,1000'),\n",
    "    ('이순신,2000'),\n",
    "    ('임꺽정,3000'),\n",
    "    ('김철수,4000'),\n",
    "    ('이황,5000'),\n",
    "    ('이이,6000'),\n",
    "\n",
    "]\n",
    "# sparkdataframe 변환후 아래 문제를 spark sql로 작성"
   ]
  },
  {
   "cell_type": "code",
   "execution_count": null,
   "metadata": {},
   "outputs": [],
   "source": [
    "main = sc.parallelize(data1)\n",
    "main_df = sqlCtx.createDataFrame( main.map(lambda x: (x.split(',')[0], int(x.split(',')[1]))) ,['name','salary'],)"
   ]
  },
  {
   "cell_type": "code",
   "execution_count": null,
   "metadata": {},
   "outputs": [
    {
     "name": "stdout",
     "output_type": "stream",
     "text": [
      "+------+------+\n",
      "|  name|salary|\n",
      "+------+------+\n",
      "|홍길동|  1000|\n",
      "|이순신|  2000|\n",
      "|임꺽정|  3000|\n",
      "|김철수|  4000|\n",
      "|  이황|  5000|\n",
      "|  이이|  6000|\n",
      "+------+------+\n",
      "\n"
     ]
    }
   ],
   "source": [
    "main_df.show()"
   ]
  },
  {
   "cell_type": "code",
   "execution_count": null,
   "metadata": {},
   "outputs": [],
   "source": [
    "main_df.createOrReplaceTempView('main_df')"
   ]
  },
  {
   "cell_type": "code",
   "execution_count": null,
   "metadata": {},
   "outputs": [
    {
     "name": "stdout",
     "output_type": "stream",
     "text": [
      "+----+------+\n",
      "|name|salary|\n",
      "+----+------+\n",
      "|이이|  6000|\n",
      "+----+------+\n",
      "\n"
     ]
    }
   ],
   "source": [
    "# prob_1\n",
    "sql =  'SELECT * FROM main_df WHERE SALARY = (SELECT MAX(SALARY) FROM main_df)'\n",
    "sqlDF=sqlCtx.sql(sql)\n",
    "sqlDF.show()"
   ]
  },
  {
   "cell_type": "code",
   "execution_count": null,
   "metadata": {},
   "outputs": [
    {
     "name": "stdout",
     "output_type": "stream",
     "text": [
      "+------+------+--------+\n",
      "|  name|salary|     TAX|\n",
      "+------+------+--------+\n",
      "|홍길동|  1000| 967.000|\n",
      "|이순신|  2000|1934.000|\n",
      "|임꺽정|  3000|2901.000|\n",
      "|김철수|  4000|3868.000|\n",
      "|  이황|  5000|4835.000|\n",
      "|  이이|  6000|5802.000|\n",
      "+------+------+--------+\n",
      "\n"
     ]
    }
   ],
   "source": [
    "# prob_2\n",
    "sql =  'SELECT *, (salary-salary*0.033) AS TAX FROM main_df '\n",
    "sqlDF=sqlCtx.sql(sql)\n",
    "sqlDF.show()"
   ]
  },
  {
   "cell_type": "code",
   "execution_count": null,
   "metadata": {},
   "outputs": [
    {
     "name": "stdout",
     "output_type": "stream",
     "text": [
      "+------+------+\n",
      "|  name|salary|\n",
      "+------+------+\n",
      "|김철수|  4000|\n",
      "+------+------+\n",
      "\n"
     ]
    }
   ],
   "source": [
    "# prob_3\n",
    "sql =  'SELECT *  FROM main_df WHERE NAME LIKE (\"%철%\") '\n",
    "sqlDF=sqlCtx.sql(sql)\n",
    "sqlDF.show()"
   ]
  },
  {
   "cell_type": "code",
   "execution_count": null,
   "metadata": {},
   "outputs": [
    {
     "name": "stdout",
     "output_type": "stream",
     "text": [
      "+------+------+\n",
      "|  name|salary|\n",
      "+------+------+\n",
      "|  이이|  6000|\n",
      "|  이황|  5000|\n",
      "|김철수|  4000|\n",
      "|임꺽정|  3000|\n",
      "|이순신|  2000|\n",
      "+------+------+\n",
      "\n"
     ]
    }
   ],
   "source": [
    "# prob_4\n",
    "sql =  'SELECT *  FROM main_df ORDER BY SALARY DESC LIMIT 5'\n",
    "sqlDF=sqlCtx.sql(sql)\n",
    "sqlDF.show()"
   ]
  },
  {
   "cell_type": "code",
   "execution_count": null,
   "metadata": {},
   "outputs": [
    {
     "name": "stdout",
     "output_type": "stream",
     "text": [
      "+------+------+\n",
      "|  name|salary|\n",
      "+------+------+\n",
      "|이순신|  2000|\n",
      "|임꺽정|  3000|\n",
      "|김철수|  4000|\n",
      "+------+------+\n",
      "\n"
     ]
    }
   ],
   "source": [
    "# prob_5\n",
    "sql =  'SELECT *  FROM main_df WHERE SALARY BETWEEN 2000 AND 4000'\n",
    "sqlDF=sqlCtx.sql(sql)\n",
    "sqlDF.show()"
   ]
  },
  {
   "cell_type": "code",
   "execution_count": null,
   "metadata": {},
   "outputs": [
    {
     "name": "stdout",
     "output_type": "stream",
     "text": [
      "+-----------+\n",
      "|DIFF_SALARY|\n",
      "+-----------+\n",
      "|       5000|\n",
      "+-----------+\n",
      "\n"
     ]
    }
   ],
   "source": [
    "# prob_6\n",
    "# 임금의 최댓값과 최솟값의 차이를 구하시오\n",
    "sql =  'SELECT MAX(SALARY)-MIN(SALARY) AS DIFF_SALARY  FROM main_df'\n",
    "sqlDF=sqlCtx.sql(sql)\n",
    "sqlDF.show()"
   ]
  },
  {
   "cell_type": "code",
   "execution_count": null,
   "metadata": {},
   "outputs": [
    {
     "name": "stdout",
     "output_type": "stream",
     "text": [
      "+------------------+\n",
      "|        STD_SALARY|\n",
      "+------------------+\n",
      "|2244.9944320643644|\n",
      "+------------------+\n",
      "\n"
     ]
    }
   ],
   "source": [
    "# prob_7\n",
    "# 임금의 표준편차를 구하시오 단 (db는 표본집단임) 구하시오\n",
    "sql =  'SELECT STD(SALARY)*(COUNT(*)/(COUNT(*)-1)) AS STD_SALARY  FROM main_df'\n",
    "sqlDF=sqlCtx.sql(sql)\n",
    "sqlDF.show()"
   ]
  },
  {
   "cell_type": "code",
   "execution_count": null,
   "metadata": {},
   "outputs": [
    {
     "name": "stderr",
     "output_type": "stream",
     "text": [
      "                                                                                \r"
     ]
    },
    {
     "name": "stdout",
     "output_type": "stream",
     "text": [
      "+------+------+\n",
      "|  name|salary|\n",
      "+------+------+\n",
      "|홍길동|  1000|\n",
      "+------+------+\n",
      "\n"
     ]
    }
   ],
   "source": [
    "# prob_8\n",
    "# 최소 임금을 받는 데이터 출력\n",
    "sql = 'select name,salary from main_df order by salary limit 1'\n",
    "sqlDF = sqlCtx.sql(sql)\n",
    "sqlDF.show()"
   ]
  },
  {
   "cell_type": "code",
   "execution_count": null,
   "metadata": {},
   "outputs": [
    {
     "name": "stdout",
     "output_type": "stream",
     "text": [
      "+----+------+\n",
      "|name|salary|\n",
      "+----+------+\n",
      "|이황|  5000|\n",
      "|이이|  6000|\n",
      "+----+------+\n",
      "\n"
     ]
    },
    {
     "name": "stderr",
     "output_type": "stream",
     "text": [
      "                                                                                \r"
     ]
    }
   ],
   "source": [
    "# prob_9\n",
    "#글자수가 2 이하인 데이터 출력\n",
    "sql = 'select name,salary from main_df where length(name)<3'\n",
    "sqlDF = sqlCtx.sql(sql)\n",
    "sqlDF.show()"
   ]
  },
  {
   "cell_type": "code",
   "execution_count": null,
   "metadata": {},
   "outputs": [
    {
     "name": "stdout",
     "output_type": "stream",
     "text": [
      "+-----------+\n",
      "|sum(salary)|\n",
      "+-----------+\n",
      "|      13000|\n",
      "+-----------+\n",
      "\n"
     ]
    }
   ],
   "source": [
    "# prob_10\n",
    "#이로 시작하는 사람들의 임금합\n",
    "sql = \"select sum(salary) from main_df where name like '이%'\"\n",
    "sqlDF = sqlCtx.sql(sql)\n",
    "sqlDF.show()"
   ]
  }
 ],
 "metadata": {
  "kernelspec": {
   "display_name": "Python 3 (ipykernel)",
   "language": "python",
   "name": "python3"
  },
  "language_info": {
   "codemirror_mode": {
    "name": "ipython",
    "version": 3
   },
   "file_extension": ".py",
   "mimetype": "text/x-python",
   "name": "python",
   "nbconvert_exporter": "python",
   "pygments_lexer": "ipython3",
   "version": "3.9.13"
  }
 },
 "nbformat": 4,
 "nbformat_minor": 4
}

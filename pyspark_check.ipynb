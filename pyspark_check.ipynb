{
 "cells": [
  {
   "cell_type": "code",
   "execution_count": 1,
   "id": "15cab3ab-f2ca-46a0-bc87-34fdf875891b",
   "metadata": {},
   "outputs": [],
   "source": [
    "import pyspark"
   ]
  },
  {
   "cell_type": "code",
   "execution_count": 2,
   "id": "7acf3055-480c-4879-b703-5e882e5766df",
   "metadata": {},
   "outputs": [
    {
     "name": "stdout",
     "output_type": "stream",
     "text": [
      "hello world\n"
     ]
    }
   ],
   "source": [
    "print('hello world')"
   ]
  },
  {
   "cell_type": "code",
   "execution_count": 3,
   "id": "78ea3264-64a4-44dc-a773-88faa9839b65",
   "metadata": {},
   "outputs": [],
   "source": [
    "from pyspark import SparkContext"
   ]
  },
  {
   "cell_type": "code",
   "execution_count": 4,
   "id": "55cc79e2-1198-4b29-b0ff-50b27ea22d98",
   "metadata": {},
   "outputs": [],
   "source": [
    "sc = SparkContext('local')"
   ]
  },
  {
   "cell_type": "code",
   "execution_count": 6,
   "id": "89442c67-defb-4384-a4c1-3e19f9dbdf31",
   "metadata": {},
   "outputs": [
    {
     "data": {
      "text/plain": [
       "aa.txt MapPartitionsRDD[3] at textFile at NativeMethodAccessorImpl.java:0"
      ]
     },
     "execution_count": 6,
     "metadata": {},
     "output_type": "execute_result"
    }
   ],
   "source": [
    "rdd1=sc.textFile('aa.txt')\n",
    "rdd1"
   ]
  },
  {
   "cell_type": "code",
   "execution_count": 7,
   "id": "0239aa80-a989-4334-af3e-3000a749b690",
   "metadata": {},
   "outputs": [
    {
     "data": {
      "text/plain": [
       "['1 aa', '2 bb', '3 cc', '4 dd', '5 ee', '6 ff', '7 gg']"
      ]
     },
     "execution_count": 7,
     "metadata": {},
     "output_type": "execute_result"
    }
   ],
   "source": [
    "# 함부로 사용하면 않된다\n",
    "rdd1.collect()\n",
    "# 분산되어있는 데이터를 마스터 한곳에 다 모음\n",
    "# action"
   ]
  },
  {
   "cell_type": "code",
   "execution_count": 8,
   "id": "cf21c2f1-b967-462c-9e50-ce5b41c9c26c",
   "metadata": {},
   "outputs": [
    {
     "data": {
      "text/plain": [
       "PythonRDD[4] at RDD at PythonRDD.scala:53"
      ]
     },
     "execution_count": 8,
     "metadata": {},
     "output_type": "execute_result"
    }
   ],
   "source": [
    "rdd2 = rdd1.map(lambda v : v+1)\n",
    "rdd2"
   ]
  },
  {
   "cell_type": "code",
   "execution_count": 27,
   "id": "2801c53e-1d8b-4503-8ae1-a880a381f00f",
   "metadata": {},
   "outputs": [],
   "source": [
    "my = [10,20,30,40,50]"
   ]
  },
  {
   "cell_type": "code",
   "execution_count": 28,
   "id": "9e182123-f85c-42cc-98af-7f79b43201ac",
   "metadata": {},
   "outputs": [],
   "source": [
    "nRdd = sc.parallelize(my)"
   ]
  },
  {
   "cell_type": "code",
   "execution_count": 14,
   "id": "0a94dbd3-2659-44be-ac67-e9288c423440",
   "metadata": {},
   "outputs": [
    {
     "data": {
      "text/plain": [
       "[10, 20, 30, 40, 50]"
      ]
     },
     "execution_count": 14,
     "metadata": {},
     "output_type": "execute_result"
    }
   ],
   "source": [
    "nRdd.collect()"
   ]
  },
  {
   "cell_type": "code",
   "execution_count": 16,
   "id": "49f8fbfb-d3ee-486d-b49e-2237cb9013e9",
   "metadata": {},
   "outputs": [],
   "source": [
    "newRdd = nRdd.map(lambda v:v+1)"
   ]
  },
  {
   "cell_type": "code",
   "execution_count": 17,
   "id": "0d00c652-b002-4cae-a09f-6c499750fffb",
   "metadata": {},
   "outputs": [
    {
     "data": {
      "text/plain": [
       "PythonRDD[6] at RDD at PythonRDD.scala:53"
      ]
     },
     "execution_count": 17,
     "metadata": {},
     "output_type": "execute_result"
    }
   ],
   "source": [
    "newRdd"
   ]
  },
  {
   "cell_type": "code",
   "execution_count": 18,
   "id": "e680a912-68a7-428b-8ba5-2425fd259f53",
   "metadata": {},
   "outputs": [
    {
     "data": {
      "text/plain": [
       "[11, 21]"
      ]
     },
     "execution_count": 18,
     "metadata": {},
     "output_type": "execute_result"
    }
   ],
   "source": [
    "newRdd.take(2)"
   ]
  },
  {
   "cell_type": "code",
   "execution_count": 20,
   "id": "cb80a9b9-7d18-463e-bbbf-a79b42071df8",
   "metadata": {},
   "outputs": [],
   "source": [
    "newRdd.foreach(lambda v:print(v))"
   ]
  },
  {
   "cell_type": "code",
   "execution_count": 31,
   "id": "9a75c99d-7dde-4ffa-b23a-2ed1a174fecf",
   "metadata": {},
   "outputs": [],
   "source": [
    "ans=nRdd.map(lambda x: x+1 if x > 30 else x+2)"
   ]
  },
  {
   "cell_type": "code",
   "execution_count": 32,
   "id": "64e19d30-7158-4a65-8a4d-230da59f7249",
   "metadata": {},
   "outputs": [
    {
     "data": {
      "text/plain": [
       "[12, 22, 32, 41, 51]"
      ]
     },
     "execution_count": 32,
     "metadata": {},
     "output_type": "execute_result"
    }
   ],
   "source": [
    "ans.take(5)"
   ]
  },
  {
   "cell_type": "code",
   "execution_count": null,
   "id": "47030aa7-edd6-4f0a-b95d-cffab801571a",
   "metadata": {},
   "outputs": [],
   "source": []
  }
 ],
 "metadata": {
  "kernelspec": {
   "display_name": "Python 3 (ipykernel)",
   "language": "python",
   "name": "python3"
  },
  "language_info": {
   "codemirror_mode": {
    "name": "ipython",
    "version": 3
   },
   "file_extension": ".py",
   "mimetype": "text/x-python",
   "name": "python",
   "nbconvert_exporter": "python",
   "pygments_lexer": "ipython3",
   "version": "3.10.8"
  }
 },
 "nbformat": 4,
 "nbformat_minor": 5
}
